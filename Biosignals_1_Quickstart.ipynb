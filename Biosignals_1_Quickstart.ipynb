{
  "cells": [
    {
      "cell_type": "markdown",
      "metadata": {
        "id": "view-in-github",
        "colab_type": "text"
      },
      "source": [
        "<a href=\"https://colab.research.google.com/github/rafamayo/MTEK/blob/main/Biosignals_1_Quickstart.ipynb\" target=\"_parent\"><img src=\"https://colab.research.google.com/assets/colab-badge.svg\" alt=\"Open In Colab\"/></a>"
      ]
    },
    {
      "cell_type": "markdown",
      "metadata": {
        "id": "OnPkCMaiiYh_"
      },
      "source": [
        "# Quick start guide"
      ]
    },
    {
      "cell_type": "markdown",
      "metadata": {
        "id": "RpbkWAxQ72LV"
      },
      "source": [
        "Based on: http://notebooks.pluxbiosignals.com/notebooks/Categories/Other/quick_start_guide_rev.html"
      ]
    },
    {
      "cell_type": "markdown",
      "metadata": {
        "id": "ZKdjbjiEiYiB"
      },
      "source": [
        "Goals:\n",
        "* Setup environment\n",
        "* Load sample data\n",
        "* Plot data"
      ]
    },
    {
      "cell_type": "markdown",
      "metadata": {
        "id": "y2NGwPlCiYiB"
      },
      "source": [
        "## 1 Setup\n"
      ]
    },
    {
      "cell_type": "markdown",
      "metadata": {
        "id": "zZW2yoL2hDGi"
      },
      "source": [
        "Install pyhton modules.\n",
        "\n",
        "**Notes:**\n",
        "\n",
        "1. When using google colab to work with the notebooks the exclamation mark in front of a command leads to an execution on the command line of the VM that runs the environment.*\n",
        "\n",
        "2. When working with a local environment and your own python interpreter it might cause issues to install biosignalnotebooks with python 3.12. Version 3.9 seems to work.*"
      ]
    },
    {
      "cell_type": "code",
      "execution_count": null,
      "metadata": {
        "id": "XM9GT-pGiOYa",
        "collapsed": true
      },
      "outputs": [],
      "source": [
        "!pip install biosignalsnotebooks"
      ]
    },
    {
      "cell_type": "code",
      "execution_count": null,
      "metadata": {
        "id": "l6Id1qMS5xZs"
      },
      "outputs": [],
      "source": [
        "!pip install sty"
      ]
    },
    {
      "cell_type": "markdown",
      "metadata": {
        "id": "TMaeIT9B8kXB"
      },
      "source": [
        "Import biosignalsnotebooks. (https://github.com/pluxbiosignals/biosignalsnotebooks)"
      ]
    },
    {
      "cell_type": "code",
      "execution_count": 4,
      "metadata": {
        "id": "pHybs852hZRr"
      },
      "outputs": [],
      "source": [
        "import biosignalsnotebooks as bsnb"
      ]
    },
    {
      "cell_type": "markdown",
      "metadata": {
        "id": "hbFkm09viYiE"
      },
      "source": [
        "## 2 Load Data"
      ]
    },
    {
      "cell_type": "markdown",
      "metadata": {
        "id": "xicjHzRv8pSd"
      },
      "source": [
        "Load data from signal samples library"
      ]
    },
    {
      "cell_type": "code",
      "execution_count": 5,
      "metadata": {
        "id": "jf88J9f7khNl"
      },
      "outputs": [],
      "source": [
        "new_aux_directory = bsnb.opensignals_hierarchy(\"aux_files\")"
      ]
    },
    {
      "cell_type": "code",
      "execution_count": 6,
      "metadata": {
        "id": "DoclJYBck4HI"
      },
      "outputs": [],
      "source": [
        "# Load the data\n",
        "sample_data_file =new_aux_directory + \"/signal_samples/emg_1000_hz_16_bits_solo.h5\"\n",
        "data, header = bsnb.load(sample_data_file, get_header=True)\n"
      ]
    },
    {
      "cell_type": "markdown",
      "metadata": {
        "id": "kVlL0LFw5hf5"
      },
      "source": [
        "Check File Header Data and making your code more colorful\n",
        "\n",
        "**Note:** The formatting in this step is taken from plux, but is not a necessary thing to do. It bloats the code and can cause confusion. By setting the fg registers from the sty modul, the textoutput is blue. `\\033[1m` is an ANSI escape sequence for bold letters."
      ]
    },
    {
      "cell_type": "code",
      "execution_count": null,
      "metadata": {
        "id": "r_M2z_lw5dVl"
      },
      "outputs": [],
      "source": [
        "from sty import fg, rs\n",
        "print(fg(98,195,238) + \"\\033[1mHeader\\033[0m\" + fg.rs)\n",
        "print(header)\n",
        "print(fg(98,195,238) + \"\\033[1mData Structure\\033[0m\" + fg.rs)\n",
        "print(data)"
      ]
    },
    {
      "cell_type": "markdown",
      "metadata": {
        "id": "xwv-Ad3x6B4y"
      },
      "source": [
        "Store information from file Header"
      ]
    },
    {
      "cell_type": "code",
      "execution_count": 8,
      "metadata": {
        "id": "TCQrIqai6HAA"
      },
      "outputs": [],
      "source": [
        "#get information which is stored inside variables\n",
        "ch = \"CH1\" # Channel\n",
        "sr = header[\"sampling rate\"] # Sampling rate\n",
        "resolution = header[\"resolution\"][0] # Resolution (number of available bits)\n",
        "device = header[\"device\"]"
      ]
    },
    {
      "cell_type": "markdown",
      "metadata": {
        "id": "z7ACtMqp6R6n"
      },
      "source": [
        "Store the desired data in an individual variable"
      ]
    },
    {
      "cell_type": "code",
      "execution_count": 9,
      "metadata": {
        "id": "d4NFiKrd6Wkw"
      },
      "outputs": [],
      "source": [
        "#RAW DATA\n",
        "signal = data[ch]"
      ]
    },
    {
      "cell_type": "markdown",
      "metadata": {
        "id": "qnoVLLin6eWW"
      },
      "source": [
        "Convert the RAW data to values with a physical meaning (in this case electric voltage | mV)"
      ]
    },
    {
      "cell_type": "code",
      "execution_count": 10,
      "metadata": {
        "id": "LeWsVZt56fwv"
      },
      "outputs": [],
      "source": [
        "# Signal Samples Conversion\n",
        "signal_uv = bsnb.raw_to_phy(\"EMG\", device, signal, resolution, option=\"mV\") # Conversion to mV"
      ]
    },
    {
      "cell_type": "markdown",
      "source": [
        "Description of the function `raw_to_phy`:\n",
        "\n",
        "\n",
        "Each sensor and device has a specific transfer function that models the inputs to outputs. This transfer function is, thus, used in order to convert the raw units that are measured to physical units that originated the data.\n",
        "\n",
        "This functions makes the conversion of raw units to physical units, using the information of sensor and device.\n",
        "\n",
        "It is defined here: https://github.com/pluxbiosignals/biosignalsnotebooks/blob/master/biosignalsnotebooks/biosignalsnotebooks/conversion.py\n",
        "\n",
        "In notebook 4 \"Unit Conversion ECG\" we will have a closer look at the conversion from raw data to physical units.\n",
        "\n"
      ],
      "metadata": {
        "id": "4BlyigYK1vrH"
      }
    },
    {
      "cell_type": "markdown",
      "metadata": {
        "id": "Goiv8J786oDW"
      },
      "source": [
        "Generate a time axis"
      ]
    },
    {
      "cell_type": "code",
      "execution_count": 11,
      "metadata": {
        "id": "FpjNwPVE6qPY"
      },
      "outputs": [],
      "source": [
        "time = bsnb.generate_time(signal)"
      ]
    },
    {
      "cell_type": "markdown",
      "metadata": {
        "id": "aXQP6I3T6w2R"
      },
      "source": [
        "## 3 Plot the data"
      ]
    },
    {
      "cell_type": "code",
      "execution_count": null,
      "metadata": {
        "id": "efRkeC4m6zEC"
      },
      "outputs": [],
      "source": [
        "bsnb.plot([time], [signal_uv], y_axis_label=\"Electric Tension (mV)\", show_plot=True)"
      ]
    },
    {
      "cell_type": "markdown",
      "metadata": {
        "id": "IU76ELh--laZ"
      },
      "source": [
        "**Electromyography (EMG)** is an electrophysiological technique used in neurological diagnostics to measure and record the electrical activity of muscles through muscle action potentials, represented graphically as an electromyogram.\n",
        "\n",
        "Key points:\n",
        "\n",
        "- **Types of EMG**:\n",
        "  - *Surface EMG*: Uses electrodes placed on the skin to non-invasively measure muscle activity, commonly used for broader muscle activity analysis.\n",
        "  - *Needle EMG*: Involves inserting fine needles into the muscle for direct access, providing detailed measurements for deeper muscles.\n",
        "  \n",
        "- **Applications**:\n",
        "  - Diagnosis of neuromuscular diseases (e.g., ALS, muscular dystrophy).\n",
        "  - Evaluation of muscle function in orthopedic conditions.\n",
        "  - Detection of peripheral nerve damage (e.g., carpal tunnel syndrome).\n",
        "  \n",
        "- **Technical Functionality**:\n",
        "  - EMG records *action potentials* triggered by motor nerve cells that cause muscle contraction.\n",
        "  \n",
        "- **Graphical Representation and Analysis**:\n",
        "  - The electromyogram is analyzed for parameters such as frequency, amplitude, and duration of action potentials, which are essential for making specific diagnostic conclusions."
      ]
    }
  ],
  "metadata": {
    "colab": {
      "provenance": [],
      "include_colab_link": true
    },
    "kernelspec": {
      "display_name": "Python 3",
      "name": "python3"
    },
    "language_info": {
      "codemirror_mode": {
        "name": "ipython",
        "version": 3
      },
      "file_extension": ".py",
      "mimetype": "text/x-python",
      "name": "python",
      "nbconvert_exporter": "python",
      "pygments_lexer": "ipython3",
      "version": "3.9.5"
    }
  },
  "nbformat": 4,
  "nbformat_minor": 0
}