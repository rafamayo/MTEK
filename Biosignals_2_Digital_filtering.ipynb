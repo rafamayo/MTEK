{
  "cells": [
    {
      "cell_type": "markdown",
      "metadata": {
        "id": "view-in-github",
        "colab_type": "text"
      },
      "source": [
        "<a href=\"https://colab.research.google.com/github/rafamayo/MTEK/blob/main/Biosignals_2_Digital_filtering.ipynb\" target=\"_parent\"><img src=\"https://colab.research.google.com/assets/colab-badge.svg\" alt=\"Open In Colab\"/></a>"
      ]
    },
    {
      "cell_type": "markdown",
      "metadata": {
        "id": "GY42Dt6XmEU9"
      },
      "source": [
        "#Digital Filtering - A Fundamental Pre-Processing Step"
      ]
    },
    {
      "cell_type": "markdown",
      "metadata": {
        "id": "PDftCi4r6PHV"
      },
      "source": [
        "Based on: http://notebooks.pluxbiosignals.com/notebooks/Categories/Pre-Process/digital_filtering_rev.html"
      ]
    },
    {
      "cell_type": "markdown",
      "metadata": {
        "id": "uaAIn6fIHwLi"
      },
      "source": [
        "The electrophysiological signals acquired during measurement contain two intrinsic components: the signal of interest and noise.\n",
        "\n",
        "The signal is the data we intend to study, while noise represents any unwanted interference or variability that is not relevant to the analysis.\n",
        "\n",
        "Noise can originate from various sources, including random events or voluntary/involuntary movements by the subject that disrupt the <a href=\"https://en.wikipedia.org/wiki/Noise_(signal_processing)\" target=\"_blank\">signal acquisition</a> process.\n",
        "\n",
        "To maximize the <a href=\"https://en.wikipedia.org/wiki/Signal-to-noise_ratio\" target=\"_blank\">signal-to-noise ratio</a>, <a href=\"https://en.wikipedia.org/wiki/Filter_(signal_processing)\" target=\"_blank\">filtering</a> is a fundamental step. Filtering can be implemented through hardware (using analog filters) or software (using digital filters), each playing a critical role in reducing noise.\n",
        "\n",
        "In this <strong><span class=\"color5\">Jupyter Notebook</span></strong>, we will demonstrate how to apply digital filtering techniques to improve the clarity of the signal."
      ]
    },
    {
      "cell_type": "markdown",
      "metadata": {
        "id": "SvuE53-9HwLj"
      },
      "source": [
        "<hr>"
      ]
    },
    {
      "cell_type": "markdown",
      "metadata": {
        "id": "X5BNbnzkIG6M"
      },
      "source": [
        "## Prep - Install module"
      ]
    },
    {
      "cell_type": "code",
      "execution_count": null,
      "metadata": {
        "id": "9gIUolKuICPr"
      },
      "outputs": [],
      "source": [
        "!pip install biosignalsnotebooks"
      ]
    },
    {
      "cell_type": "markdown",
      "metadata": {
        "id": "L6L_6XeLHwLj"
      },
      "source": [
        "## 1 - Importation of the needed packages"
      ]
    },
    {
      "cell_type": "code",
      "execution_count": null,
      "metadata": {
        "id": "6UHMO7rNHwLj"
      },
      "outputs": [],
      "source": [
        "# biosignalsnotebooks own package for loading and plotting the acquired data\n",
        "import biosignalsnotebooks as bsnb\n",
        "\n",
        "# Scientific package\n",
        "from numpy import array, mean, average, linspace, where\n",
        "from numpy.random import normal"
      ]
    },
    {
      "cell_type": "markdown",
      "metadata": {
        "id": "LQrPvlDhHwLk"
      },
      "source": [
        "## 2 - Load of acquired ECG data</p>"
      ]
    },
    {
      "cell_type": "code",
      "execution_count": null,
      "metadata": {
        "id": "661S2FZsHwLl"
      },
      "outputs": [],
      "source": [
        "# Load of data\n",
        "data, header = bsnb.load_signal(\"ecg_4000_Hz\", get_header=True)\n",
        "\n",
        "print(header)\n",
        "print(data)"
      ]
    },
    {
      "cell_type": "markdown",
      "metadata": {
        "id": "-l0lsXsoHwLl"
      },
      "source": [
        "In the following cell, some relevant information is stored inside variables. This relevant information includes the channel number and signal acquisition parameters such as resolution and sampling rate.\n",
        "\n",
        "For a detailed explanation of how to access this info, the <a href=\"http://notebooks.pluxbiosignals.com/notebooks/Categories/Load/signal_loading_preparatory_steps_rev.html\" target=\"_blank\">\"Signal Loading - Working with File Header\"</a> Notebook should be consulted."
      ]
    },
    {
      "cell_type": "code",
      "execution_count": null,
      "metadata": {
        "id": "edwNLTs5HwLl"
      },
      "outputs": [],
      "source": [
        "ch = \"CH1\" # Channel\n",
        "sr = header[\"sampling rate\"] # Sampling rate\n",
        "resolution = header[\"resolution\"] # Resolution (number of available bits)"
      ]
    },
    {
      "cell_type": "markdown",
      "metadata": {
        "id": "cfK8rD8wHwLm"
      },
      "source": [
        "## 3 - Generation of signal power spectrum by <i>Fast Fourier Transform</i> (FFT)\n",
        "With this step is possible to observe the frequency composition of ECG signal."
      ]
    },
    {
      "cell_type": "markdown",
      "metadata": {
        "id": "FAzTkEJ5HwLm"
      },
      "source": [
        "### 3.1 - Store the desired physiological data (channel 1) int an individual variable"
      ]
    },
    {
      "cell_type": "code",
      "execution_count": null,
      "metadata": {
        "id": "0qMfAHf1HwLm"
      },
      "outputs": [],
      "source": [
        "# Acquired data\n",
        "signal = data[ch]"
      ]
    },
    {
      "cell_type": "markdown",
      "metadata": {
        "id": "MYono8IwHwLm"
      },
      "source": [
        "### 3.2 - Removal of continuous component from our signal (baseline shift through the subtraction of the average value)\n",
        "This task ensures more stability of our filtering system.\n",
        "\n",
        "This step is done to remove the DC offset of the signal. The removal of the constant component is helpful for the frequency analysis. It enhances the frequency components and improves the accuracy of the following Fast Fourier Transformation (FFT).\n",
        "\n",
        "DC Offset with Signals:\n",
        "\n",
        "* AC Signal: This is a signal that oscillates or varies around a zero voltage level. For example, an ECG signal is primarily an AC signal because it fluctuates both above and below a zero reference point as the heart beats.\n",
        "\n",
        "* DC Signal: This is a constant signal that does not change over time. It remains at a fixed voltage level. In the case of an ECG, a DC signal might represent interference or noise that is present at a constant level."
      ]
    },
    {
      "cell_type": "code",
      "execution_count": null,
      "metadata": {
        "id": "xWwxVeBpHwLm"
      },
      "outputs": [],
      "source": [
        "# Baseline shift.\n",
        "shifted_signal = array(signal) - mean(signal)"
      ]
    },
    {
      "cell_type": "markdown",
      "metadata": {
        "id": "CWi4Y_pjQSLj"
      },
      "source": [
        "Let's compare the raw signal to the shifted signal"
      ]
    },
    {
      "cell_type": "code",
      "execution_count": null,
      "metadata": {
        "id": "XaOYRZyBQZT3"
      },
      "outputs": [],
      "source": [
        "time = bsnb.generate_time(signal, sr)\n",
        "\n",
        "bsnb.plot([time, time], [signal, shifted_signal], y_axis_label=[\"Raw Data\", \"Baseline Shift\"],\n",
        "          grid_lines=1, grid_columns=2, grid_plot=True)"
      ]
    },
    {
      "cell_type": "markdown",
      "metadata": {
        "id": "c44UOn6yxjI1"
      },
      "source": [
        "Notice how the signal is now centered around zero, while the caracteristics of the curve are the same."
      ]
    },
    {
      "cell_type": "markdown",
      "metadata": {
        "id": "wR2q1Md9HwLm"
      },
      "source": [
        "### 3.3 - Generation of the power spectrum"
      ]
    },
    {
      "cell_type": "code",
      "execution_count": null,
      "metadata": {
        "id": "jgAq5TSTHwLn"
      },
      "outputs": [],
      "source": [
        "# Power spectrum\n",
        "freq_axis_1, power_spect_1 = bsnb.plotfft(shifted_signal, sr)"
      ]
    },
    {
      "cell_type": "markdown",
      "metadata": {
        "id": "eqdUVqsXz7zm"
      },
      "source": [
        "The function *plotfft* utilizes the *fft* function from the numpy module.\n",
        "Going into the details of the Fast Fourier Transformation is not in the scope of this exercise. Note in the next plot, what happened: The signal was transfered from the time domain to the frequency domain (label of the x-axis). This allows us to analyze which frequencies are present in the signal."
      ]
    },
    {
      "cell_type": "markdown",
      "metadata": {
        "id": "YyLhW6MdHwLn"
      },
      "source": [
        "## 4 - The informational content of ECG signal is typically contained below the 40 Hz frequency component\n",
        "With the next representation we can conclude that there exists some unwanted information out of this frequency band."
      ]
    },
    {
      "cell_type": "code",
      "execution_count": null,
      "metadata": {
        "id": "zIS_ncwiHwLn"
      },
      "outputs": [],
      "source": [
        "fig_1 = bsnb.plot_informational_band(freq_axis_1, power_spect_1, shifted_signal, sr, band_begin=0.5, band_end=40, legend=\"ECG Power Spectrum\",\n",
        "                                     x_lim=[0, 100], y_lim=[0, 5e6], show_plot=True)"
      ]
    },
    {
      "cell_type": "markdown",
      "metadata": {
        "id": "GeTfdd_qHwLn"
      },
      "source": [
        "## 5 - Application of a low-pass filter in order to exclude the unwanted information above the 40 Hz frequency component\n",
        "Some low-frequency noise can be present at [0, 0.5] Hz frequency band. To exclude it we can follow an identical procedure, but, instead of applying a low-pass filter, a band-pass filter should be used for the frequencies within [0.5, 40] Hz.\n",
        "<br>\n",
        "For now, we focus on the more problematic type of noise, i.e., the high frequency noise"
      ]
    },
    {
      "cell_type": "code",
      "execution_count": null,
      "metadata": {
        "id": "JOshjb3QHwLn"
      },
      "outputs": [],
      "source": [
        "# Digital lowpass filtering with a cutoff frequency f of 40 Hz\n",
        "filter_signal_1 = bsnb.lowpass(shifted_signal, f=40, order=1, fs=sr)\n",
        "\n",
        "# Power spectrum\n",
        "freq_axis_2, power_spect_2 = bsnb.plotfft(filter_signal_1, sr)"
      ]
    },
    {
      "cell_type": "markdown",
      "metadata": {
        "id": "h0HLeGuO3G-7"
      },
      "source": [
        "The *lowpass* function applies a Butterworth digital filter by using the functions *butter* and *lfilter* from the module scipy.signal. The following two lines are taken from the *lowpass* function:\n",
        "\n",
        "```python\n",
        "\"\"\"\n",
        "Parameters\n",
        "    ----------\n",
        "    s: array-like\n",
        "        signal\n",
        "    f: int\n",
        "        the cutoff frequency\n",
        "    order: int\n",
        "        Butterworth filter order\n",
        "    fs: float\n",
        "        sampling frequency\n",
        "    ----------\n",
        "\"\"\"\n",
        "\n",
        "  b, a = butter(order, f / (fs/2))\n",
        "  lfilter(b, a, s)\n",
        "```\n",
        "The first line designs a filter of the given order and returns the filter coefficients. The second parameter identifies the critical frequency $W_{n}$. For a Butterworth filter, this is the point at which the gain drops to 1/sqrt(2) that of the passband (the “-3 dB point”). Note that $W_{n}$ is normalized by the Nyquist frequency $f_s/2$\n",
        "\n",
        "In our case $W_{n} = 40 / (4000/2)= 0,02$\n",
        "\n",
        "The returned variables $a$ and $b$ are polynomials that are used for the IIR-filter in the next line. An Infinite Impulse Response filter works based on the previous input and output signals:\n",
        "\n",
        "$y[n]=\\frac{1}{a_{0}}\\left(\\sum_{i=0}^{P}b_{i}x[n-i]-\\sum_{j=1}^{Q}a_{j}y[n-j]\\right)$\n",
        "\n",
        "where:\n",
        "\n",
        "* $P$ is the feedforward filter order\n",
        "* $b_i$ are the feedforward filter coefficients\n",
        "* $Q$ is the feedback filter order\n",
        "* $a_i$ are the feedback filter coefficients\n",
        "* $x[n]$ is the input signal\n",
        "* $y[n]$ is the output signal\n",
        "\n",
        "(https://en.wikipedia.org/wiki/Infinite_impulse_response)\n"
      ]
    },
    {
      "cell_type": "markdown",
      "metadata": {
        "id": "MoqS_GUXHwLn"
      },
      "source": [
        "## 6 - Comparison of the power spectrum of original and filtered signal"
      ]
    },
    {
      "cell_type": "code",
      "execution_count": null,
      "metadata": {
        "id": "j0LYJWzWHwLo"
      },
      "outputs": [],
      "source": [
        "bsnb.plot_before_after_filter(shifted_signal, sr, band_begin=0.5, band_end=40, x_lim=[0, 100], y_lim=[0, 5e6], show_plot=True)"
      ]
    },
    {
      "cell_type": "markdown",
      "metadata": {
        "id": "Jt8FVTVrHwLo"
      },
      "source": [
        "In this first filtering attempt we used a first order filter (input argument order=1). It can be seen, in the previous figure, that some unwanted information has been removed, unfortunately no filter has an ideal behavior, so despite we specify a high cutoff frequency of 40 Hz, some information above this threshold is maintained after filtering.\n",
        "\n",
        "The good news are that components greater than 80 Hz are almost completely removed.\n",
        "\n",
        "The filter performance can be improved by increasing the filter order, because the higher the filter order is, more quickly the transition between the pass and stop band will be. The transition band will be smaller because of a higher attenuation rate (-20 x <strong>order</strong> dB/decade).\n",
        "\n",
        "However, the filter order must be chosen with precaution in order to avoid system instability. <strong><span class=\"color4\">Magnitude Bode plots</span></strong> are very useful to check the filter response, as can be seen in the figure below, taking into consideration the following Mathematical formulation."
      ]
    },
    {
      "cell_type": "markdown",
      "metadata": {
        "id": "0ZXiQN7MHwLo"
      },
      "source": [
        "\\begin{equation}\n",
        "    G = -20\\times\\log_{10}\\Bigg(\\sqrt{1 + \\bigg(\\frac{f}{f_c}\\bigg)^{2.n}}\\Bigg)\n",
        "\\end{equation}\n",
        "\n",
        "<table width=\"100%\">\n",
        "    <tr>\n",
        "        <td width=\"20%\"></td>\n",
        "        <td width=\"30%\" style=\"text-align:left;vertical-align:top\">$G$ - Gain factor (negative values reveal an attenuation)</td>\n",
        "        <td width=\"30%\" style=\"text-align:left;vertical-align:top\">$n$ - Filter order (integer)</td>\n",
        "        <td width=\"20%\"></td>\n",
        "    </tr>\n",
        "    <tr>\n",
        "        <td></td>\n",
        "        <td style=\"text-align:left;vertical-align:top\">$f_{c}$ - Cutoff frequency of the filter (40 Hz, for the current implementation)</td>\n",
        "        <td style=\"text-align:left;vertical-align:top\">$f$ - Independent variable (input frequency to be filtered)</td>\n",
        "        <td></td>\n",
        "    </tr>\n",
        "</table>"
      ]
    },
    {
      "cell_type": "code",
      "execution_count": null,
      "metadata": {
        "id": "2znbqLxMHwLo"
      },
      "outputs": [],
      "source": [
        "bsnb.plot_low_pass_filter_response()"
      ]
    },
    {
      "cell_type": "markdown",
      "metadata": {
        "id": "A1rLe5MBHwLo"
      },
      "source": [
        "## 7 - Repetition of the filtering stage but using a higher filter order</p>"
      ]
    },
    {
      "cell_type": "code",
      "execution_count": null,
      "metadata": {
        "id": "ayKESCkZHwLo"
      },
      "outputs": [],
      "source": [
        "# Digital low-pass filtering with a cutoff frequency f of 40 Hz\n",
        "filter_signal_2 = bsnb.lowpass(shifted_signal, f=40, order=3, fs=sr)\n",
        "\n",
        "# Power spectrum\n",
        "freq_axis_3, power_spect_3 = bsnb.plotfft(filter_signal_2, sr)"
      ]
    },
    {
      "cell_type": "code",
      "execution_count": null,
      "metadata": {
        "id": "jqJ2ODJYHwLp"
      },
      "outputs": [],
      "source": [
        "bsnb.plot_before_after_filter(signal, sr, band_begin=0.5, band_end=40, order=3, x_lim=[0, 100], y_lim=[0, 5e6],\n",
        "                           orientation=\"vert\",show_plot=True)"
      ]
    },
    {
      "cell_type": "markdown",
      "metadata": {
        "id": "ebGxQPgFHwLp"
      },
      "source": [
        "When the noise level is low, it may be difficult to observe its influence in time domain.\n",
        "In order to the digital filtering stage produce a visual effect in time domain, the noise level needs to be high.\n",
        "\n",
        "So we will add some artificial noise do the signal and see the great impact of digital filtering."
      ]
    },
    {
      "cell_type": "markdown",
      "metadata": {
        "id": "hjgWRzL4HwLp"
      },
      "source": [
        "<hr>"
      ]
    },
    {
      "cell_type": "markdown",
      "metadata": {
        "id": "fqSlzeDBHwLp"
      },
      "source": [
        "## 8 - Addition of artificial noise\n",
        "\n",
        "*Note: The normal() function from numpy.random draws random samples from a normal distribution. In this case a distribution centered around 0 with a standard deviation of 1000 is used and we draw as many samples from it, as there are signal values in our signal.*"
      ]
    },
    {
      "cell_type": "code",
      "execution_count": null,
      "metadata": {
        "id": "gxtV9W9yHwLp"
      },
      "outputs": [],
      "source": [
        "# Noise samples and translation of the baseline\n",
        "baseline = average(signal)\n",
        "baseline_shift = 0.50 * baseline\n",
        "noisy_signal = signal + normal(0, 1000, len(signal)) + baseline_shift"
      ]
    },
    {
      "cell_type": "markdown",
      "metadata": {
        "id": "-mu6Bvf8HwLq"
      },
      "source": [
        "## 9 - Noisy signal representation</p>"
      ]
    },
    {
      "cell_type": "code",
      "execution_count": null,
      "metadata": {
        "id": "KVcVTjz8HwLq"
      },
      "outputs": [],
      "source": [
        "# Plotting of power spectrum\n",
        "bsnb.plot(linspace(0, len(noisy_signal) - 1, len(noisy_signal)), noisy_signal, x_axis_label='Sample Number',\n",
        "          y_axis_label='Raw Data', title=\"Noisy Signal\", y_range=(-1e4, 6e4))"
      ]
    },
    {
      "cell_type": "markdown",
      "metadata": {
        "id": "XVySlrVZ6uph"
      },
      "source": [
        "*Note: Notice the difference to the previous example signal in the next plot*"
      ]
    },
    {
      "cell_type": "code",
      "execution_count": null,
      "metadata": {
        "id": "aULcUnao65IO"
      },
      "outputs": [],
      "source": [
        "# Plotting of power spectrum\n",
        "bsnb.plot(linspace(0, len(signal) - 1, len(signal)), signal, x_axis_label='Sample Number',\n",
        "          y_axis_label='Raw Data', title=\"Signal\", y_range=(-1e4, 6e4))"
      ]
    },
    {
      "cell_type": "markdown",
      "metadata": {
        "id": "ZsaNlK4hHwLq"
      },
      "source": [
        "## 10 - Digital Filtering Stage</p>"
      ]
    },
    {
      "cell_type": "code",
      "execution_count": null,
      "metadata": {
        "id": "JnbLsnkPHwLq"
      },
      "outputs": [],
      "source": [
        "# Digital low-pass filtering with a cutoff frequency f of 40 Hz\n",
        "noisy_signal_filter = bsnb.lowpass(noisy_signal, f=40, order=3, fs=sr)"
      ]
    },
    {
      "cell_type": "markdown",
      "metadata": {
        "id": "wwrcILB4HwLq"
      },
      "source": [
        "## 11 - Comparison of noisy and filtered signal in time domain</p>"
      ]
    },
    {
      "cell_type": "code",
      "execution_count": null,
      "metadata": {
        "id": "hOKtjILaHwLq"
      },
      "outputs": [],
      "source": [
        "bsnb.plot([linspace(0, len(noisy_signal) - 1, len(noisy_signal))]*2, [noisy_signal, noisy_signal_filter],\n",
        "          grid_plot=True, grid_lines=1, grid_columns=2, x_axis_label='Sample Number', y_axis_label='Raw Data',\n",
        "          title=[\"Noisy Signal\", \"Filtered Signal\"])"
      ]
    },
    {
      "cell_type": "markdown",
      "metadata": {
        "id": "9wxruTDEHwLr"
      },
      "source": [
        "As described previously, no filter has an ideal behavior, but, in spite of not ideal the behavior of real filters is predictable.\n",
        "\n",
        "For example, for the designed 3rd order Butterworth filter with cutoff frequency of 40 Hz, it is expected that after one decade (40 Hz x 10 = 400 Hz) the relative amplitude will be attenuated by -60 dB (assuming a value of 0.1% of the non-filtered signal)."
      ]
    },
    {
      "cell_type": "code",
      "execution_count": null,
      "metadata": {
        "id": "BpWnlygaHwLr"
      },
      "outputs": [],
      "source": [
        "# Power spectrum (Noisy signal)\n",
        "freq_axis_noisy, power_spect_noisy = bsnb.plotfft(noisy_signal, sr)\n",
        "\n",
        "# Power spectrum (Filtered signal)\n",
        "freq_axis_filter, power_spect_filter = bsnb.plotfft(noisy_signal_filter, sr)\n",
        "\n",
        "# Relative amplitude 1 decade after the 40 Hz cutoff frequency --> 400 Hz\n",
        "# Taking into consideration that the search is sequential, so, only the\n",
        "# first sample that meets the criterium is relevant.\n",
        "index_decade = where(freq_axis_noisy >= 400)[0][0]\n",
        "power_decade_noisy = power_spect_noisy[index_decade]\n",
        "power_decade_filter = power_spect_filter[index_decade]"
      ]
    },
    {
      "cell_type": "code",
      "execution_count": null,
      "metadata": {
        "id": "Z6ue_5hWHwLr"
      },
      "outputs": [],
      "source": [
        "!pip install sty\n",
        "\n",
        "from sty import fg, rs\n",
        "print(fg(98,195,238) + \"\\033[1mRelative Amplitude/Power at 400 Hz frequency component [Noisy Signal]: \\033[0m\" + fg.rs + str(round(power_decade_noisy, 4)))\n",
        "print(fg(148,193,30) + \"\\033[1mRelative Amplitude/Power at 400 Hz frequency component [Filtered Signal]: \\033[0m\" + fg.rs +\n",
        "      str(round(power_decade_filter, 4)))\n",
        "print(fg(232,77,14) + \"\\033[1m\\nRatio between filtered and noisy 400 Hz component [Attenuation]: \\033[0m\" + fg.rs +\n",
        "      str(round(power_decade_filter/power_decade_noisy, 4)) + \" ~ \" + str(round(power_decade_filter/power_decade_noisy, 3)) + \" = 0.1 %\")"
      ]
    },
    {
      "cell_type": "markdown",
      "metadata": {
        "id": "SXVt9ui-HwLr"
      },
      "source": [
        "Taking into consideration the previous demonstration, we can understand that the designed filter presents the desired behavior !"
      ]
    },
    {
      "cell_type": "markdown",
      "metadata": {
        "id": "En9lruRQHwLr"
      },
      "source": [
        "Unfortunately, <a href=\"https://en.wikipedia.org/wiki/Noise_(signal_processing)\">noise</a> is present in nearly all signal acquisitions, and even physiological data can act as noise if it interferes with the signal under study. For example, electromyographic (EMG) data may be considered noise when capturing electrocardiographic (ECG) signals.\n",
        "\n",
        "However, as shown earlier, we can address this challenge effectively by using filters—either analog (pre-acquisition) or digital (post-acquisition). This brief tutorial introduces the fundamental principles of digital filters and guides users through the steps to *design* a widely used <a href=\"https://en.wikipedia.org/wiki/Butterworth_filter\">Butterworth</a> filter."
      ]
    }
  ],
  "metadata": {
    "celltoolbar": "Tags",
    "colab": {
      "provenance": [],
      "include_colab_link": true
    },
    "kernelspec": {
      "display_name": "Python 3",
      "language": "python",
      "name": "python3"
    },
    "language_info": {
      "codemirror_mode": {
        "name": "ipython",
        "version": 3
      },
      "file_extension": ".py",
      "mimetype": "text/x-python",
      "name": "python",
      "nbconvert_exporter": "python",
      "pygments_lexer": "ipython3",
      "version": "3.7.2"
    }
  },
  "nbformat": 4,
  "nbformat_minor": 0
}