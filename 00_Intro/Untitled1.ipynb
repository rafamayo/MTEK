{
 "cells": [
  {
   "cell_type": "markdown",
   "id": "0be3b7bd-2663-4d40-8012-2533055ec55e",
   "metadata": {},
   "source": [
    "## Laden eines Defibrillators"
   ]
  },
  {
   "cell_type": "code",
   "execution_count": null,
   "id": "8f4b470b-98a6-4613-bfc5-f018d4bad0a5",
   "metadata": {},
   "outputs": [],
   "source": [
    "import numpy as np\n",
    "import matplotlib.pyplot as plt"
   ]
  },
  {
   "cell_type": "code",
   "execution_count": null,
   "id": "daaa9e45-7626-4504-a5f2-fa4bd73faf0c",
   "metadata": {},
   "outputs": [],
   "source": []
  }
 ],
 "metadata": {
  "kernelspec": {
   "display_name": "Python 3 (ipykernel)",
   "language": "python",
   "name": "python3"
  },
  "language_info": {
   "codemirror_mode": {
    "name": "ipython",
    "version": 3
   },
   "file_extension": ".py",
   "mimetype": "text/x-python",
   "name": "python",
   "nbconvert_exporter": "python",
   "pygments_lexer": "ipython3",
   "version": "3.12.3"
  }
 },
 "nbformat": 4,
 "nbformat_minor": 5
}
