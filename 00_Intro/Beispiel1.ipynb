{
 "cells": [
  {
   "cell_type": "markdown",
   "id": "e315c653-3ed8-4e59-aeec-fbf0b7c33c49",
   "metadata": {},
   "source": [
    "# Mein erstes Projekt\n"
   ]
  },
  {
   "cell_type": "markdown",
   "id": "d4f17114-06d4-4b3e-8b08-bc1459d66b7c",
   "metadata": {},
   "source": [
    "Show in markdown the value of a variable used in the code\n",
    "\n",
    "+ We have variable m={{m}}"
   ]
  },
  {
   "cell_type": "code",
   "execution_count": 1,
   "id": "27ba552e-861f-4d1a-8121-1b22d191a8f2",
   "metadata": {},
   "outputs": [],
   "source": [
    "import numpy as np\n",
    "import matplotlib.pyplot as plt\n",
    "from scipy import signal\n"
   ]
  },
  {
   "cell_type": "code",
   "execution_count": 2,
   "id": "209fe1c3-e413-44a7-ba2f-f7d40e13381a",
   "metadata": {},
   "outputs": [
    {
     "ename": "TypeError",
     "evalue": "unhashable type: 'set'",
     "output_type": "error",
     "traceback": [
      "\u001b[0;31m---------------------------------------------------------------------------\u001b[0m",
      "\u001b[0;31mTypeError\u001b[0m                                 Traceback (most recent call last)",
      "Cell \u001b[0;32mIn[2], line 1\u001b[0m\n\u001b[0;32m----> 1\u001b[0m m \u001b[38;5;241m=\u001b[39m {{\u001b[38;5;241m10\u001b[39m}}\n",
      "\u001b[0;31mTypeError\u001b[0m: unhashable type: 'set'"
     ]
    }
   ],
   "source": [
    "m = {{10}}"
   ]
  },
  {
   "cell_type": "code",
   "execution_count": null,
   "id": "2ddf4e2d-ba6f-4fd4-a07a-a8aab27b2a71",
   "metadata": {},
   "outputs": [],
   "source": []
  }
 ],
 "metadata": {
  "kernelspec": {
   "display_name": "Python 3 (ipykernel)",
   "language": "python",
   "name": "python3"
  },
  "language_info": {
   "codemirror_mode": {
    "name": "ipython",
    "version": 3
   },
   "file_extension": ".py",
   "mimetype": "text/x-python",
   "name": "python",
   "nbconvert_exporter": "python",
   "pygments_lexer": "ipython3",
   "version": "3.12.3"
  }
 },
 "nbformat": 4,
 "nbformat_minor": 5
}
